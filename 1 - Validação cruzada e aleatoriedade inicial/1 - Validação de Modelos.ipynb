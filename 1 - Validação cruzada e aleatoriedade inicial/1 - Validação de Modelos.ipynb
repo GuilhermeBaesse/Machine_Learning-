{
 "cells": [
  {
   "cell_type": "code",
   "execution_count": 15,
   "id": "bc8bb614",
   "metadata": {},
   "outputs": [
    {
     "data": {
      "text/html": [
       "<div>\n",
       "<style scoped>\n",
       "    .dataframe tbody tr th:only-of-type {\n",
       "        vertical-align: middle;\n",
       "    }\n",
       "\n",
       "    .dataframe tbody tr th {\n",
       "        vertical-align: top;\n",
       "    }\n",
       "\n",
       "    .dataframe thead th {\n",
       "        text-align: right;\n",
       "    }\n",
       "</style>\n",
       "<table border=\"1\" class=\"dataframe\">\n",
       "  <thead>\n",
       "    <tr style=\"text-align: right;\">\n",
       "      <th></th>\n",
       "      <th>preco</th>\n",
       "      <th>vendido</th>\n",
       "      <th>idade_do_modelo</th>\n",
       "      <th>km_por_ano</th>\n",
       "    </tr>\n",
       "  </thead>\n",
       "  <tbody>\n",
       "    <tr>\n",
       "      <th>0</th>\n",
       "      <td>30941.02</td>\n",
       "      <td>1</td>\n",
       "      <td>18</td>\n",
       "      <td>35085.22134</td>\n",
       "    </tr>\n",
       "    <tr>\n",
       "      <th>1</th>\n",
       "      <td>40557.96</td>\n",
       "      <td>1</td>\n",
       "      <td>20</td>\n",
       "      <td>12622.05362</td>\n",
       "    </tr>\n",
       "    <tr>\n",
       "      <th>2</th>\n",
       "      <td>89627.50</td>\n",
       "      <td>0</td>\n",
       "      <td>12</td>\n",
       "      <td>11440.79806</td>\n",
       "    </tr>\n",
       "    <tr>\n",
       "      <th>3</th>\n",
       "      <td>95276.14</td>\n",
       "      <td>0</td>\n",
       "      <td>3</td>\n",
       "      <td>43167.32682</td>\n",
       "    </tr>\n",
       "    <tr>\n",
       "      <th>4</th>\n",
       "      <td>117384.68</td>\n",
       "      <td>1</td>\n",
       "      <td>4</td>\n",
       "      <td>12770.11290</td>\n",
       "    </tr>\n",
       "  </tbody>\n",
       "</table>\n",
       "</div>"
      ],
      "text/plain": [
       "       preco  vendido  idade_do_modelo   km_por_ano\n",
       "0   30941.02        1               18  35085.22134\n",
       "1   40557.96        1               20  12622.05362\n",
       "2   89627.50        0               12  11440.79806\n",
       "3   95276.14        0                3  43167.32682\n",
       "4  117384.68        1                4  12770.11290"
      ]
     },
     "execution_count": 15,
     "metadata": {},
     "output_type": "execute_result"
    }
   ],
   "source": [
    "import pandas as pd\n",
    "\n",
    "uri = \"https://gist.githubusercontent.com/guilhermesilveira/e99a526b2e7ccc6c3b70f53db43a87d2/raw/1605fc74aa778066bf2e6695e24d53cf65f2f447\"\n",
    "data = pd.read_csv(uri).drop(columns=[\"Unnamed: 0\"], axis=1)\n",
    "data.head()"
   ]
  },
  {
   "cell_type": "code",
   "execution_count": 19,
   "id": "a516997e",
   "metadata": {},
   "outputs": [
    {
     "name": "stdout",
     "output_type": "stream",
     "text": [
      "Treinamos com 9975 elemenos e testaremos com 25 elementos\n"
     ]
    }
   ],
   "source": [
    "import numpy as np\n",
    "from sklearn.model_selection import train_test_split\n",
    "from sklearn.svm import LinearSVC\n",
    "from sklearn.metrics import accuracy_score\n",
    "\n",
    "x = data[[\"preco\", \"idade_do_modelo\",\"km_por_ano\"]]\n",
    "y = data[\"vendido\"]\n",
    "\n",
    "SEED = 158020\n",
    "np.random.seed(SEED)\n",
    "train_x, test_x, train_y, test_y = train_test_split(x, y, test_size = 25, stratify = y)\n",
    "print(\"Treinamos com %d elemenos e testaremos com %d elementos\" %(len(train_x), len(test_x))) "
   ]
  },
  {
   "cell_type": "code",
   "execution_count": 20,
   "id": "f934d288",
   "metadata": {},
   "outputs": [
    {
     "name": "stdout",
     "output_type": "stream",
     "text": [
      "A acurácia do dummy statified foi de 60.00%\n"
     ]
    }
   ],
   "source": [
    "from sklearn.dummy import DummyClassifier\n",
    "dummy_stratified = DummyClassifier()\n",
    "dummy_stratified.fit(train_x, train_y)\n",
    "accuracy = dummy_stratified.score(test_x, test_y) * 100\n",
    "\n",
    "print(\"A acurácia do dummy statified foi de %.2f%%\" % accuracy)"
   ]
  },
  {
   "cell_type": "code",
   "execution_count": 22,
   "id": "27c4dc68",
   "metadata": {},
   "outputs": [
    {
     "name": "stdout",
     "output_type": "stream",
     "text": [
      "A accuracy foi 76.00%\n"
     ]
    }
   ],
   "source": [
    "from sklearn.tree import DecisionTreeClassifier \n",
    "\n",
    "SEED = 158020\n",
    "np.random.seed(SEED)\n",
    "model = DecisionTreeClassifier(max_depth=2)\n",
    "model.fit(train_x, train_y)\n",
    "predictions = model.predict(test_x)\n",
    "accuracy = accuracy_score(test_y, predictions) * 100\n",
    "print(\"A accuracy foi %.2f%%\" % accuracy)"
   ]
  },
  {
   "cell_type": "code",
   "execution_count": 25,
   "id": "86ddd032",
   "metadata": {},
   "outputs": [
    {
     "name": "stdout",
     "output_type": "stream",
     "text": [
      "Treinamos com 9975 elemenos e testaremos com 25 elementos\n",
      "A accuracy foi 76.00%\n"
     ]
    }
   ],
   "source": [
    "x = data[[\"preco\", \"idade_do_modelo\",\"km_por_ano\"]]\n",
    "y = data[\"vendido\"]\n",
    "\n",
    "SEED = 158020\n",
    "np.random.seed(SEED)\n",
    "train_x, test_x, train_y, test_y = train_test_split(x, y, test_size = 25, stratify = y)\n",
    "print(\"Treinamos com %d elemenos e testaremos com %d elementos\" %(len(train_x), len(test_x))) \n",
    "model = DecisionTreeClassifier(max_depth=2)\n",
    "model.fit(train_x, train_y)\n",
    "predictions = model.predict(test_x)\n",
    "accuracy = accuracy_score(test_y, predictions) * 100\n",
    "print(\"A accuracy foi %.2f%%\" % accuracy)"
   ]
  },
  {
   "cell_type": "markdown",
   "id": "7c364db0",
   "metadata": {},
   "source": [
    "Ao alterarmos o seed para 5 aumentamos nossa accuracy mas, dependendo do número que chutassemos tomariamos uma decisão baseado em uma aleatoriadade, e não faz sentido basearmos nossa decisão nessa aleatoriedade, se rodamos o teste e treino uma única vez corremos o risco\n",
    "de ter separado o treino e teste de uma maneira não muito boa, então precisamos  de um algoritmo para treinar e testar mais de uma vez para ter uma estimativa."
   ]
  },
  {
   "cell_type": "code",
   "execution_count": 31,
   "id": "a1c1f9ab",
   "metadata": {},
   "outputs": [],
   "source": [
    "def imprime_resultados(results):\n",
    "    media = results['test_score'].mean()\n",
    "    desvio_padrao = results['test_score'].std()\n",
    "    print(\"Accuracy médio: %.2f\" % (media * 100))\n",
    "    print(\"Accuracy com cross validation, 5 = [%.2f, %.2f]\" %((media - 2 * desvio_padrao) * 100,( media + 2 * desvio_padrao)*100))"
   ]
  },
  {
   "cell_type": "code",
   "execution_count": 35,
   "id": "f3542f09",
   "metadata": {},
   "outputs": [
    {
     "name": "stdout",
     "output_type": "stream",
     "text": [
      "Accuracy médio: 75.78\n",
      "Accuracy com cross validation, 5 = [75.21, 76.35]\n"
     ]
    }
   ],
   "source": [
    "from sklearn.model_selection import cross_validate\n",
    "\n",
    "SEED = 158020\n",
    "np.random.seed(SEED)\n",
    "model = DecisionTreeClassifier(max_depth=2)\n",
    "results = cross_validate(model, x, y, cv = 5, return_train_score=False)\n",
    "imprime_resultados(results)"
   ]
  },
  {
   "cell_type": "markdown",
   "id": "ccc36ce5",
   "metadata": {},
   "source": [
    "# Aleatoriadade no cross_validation\n"
   ]
  },
  {
   "cell_type": "code",
   "execution_count": 37,
   "id": "a83a5b27",
   "metadata": {},
   "outputs": [
    {
     "name": "stdout",
     "output_type": "stream",
     "text": [
      "Accuracy médio: 75.78\n",
      "Accuracy com cross validation, 5 = [74.37, 77.19]\n"
     ]
    }
   ],
   "source": [
    "from sklearn.model_selection import KFold\n",
    "\n",
    "SEED = 158020\n",
    "np.random.seed(SEED)\n",
    "\n",
    "cv = KFold(n_splits = 10)\n",
    "model = DecisionTreeClassifier(max_depth=2)\n",
    "results = cross_validate(model, x, y, cv = cv, return_train_score=False)\n",
    "imprime_resultados(results) "
   ]
  },
  {
   "cell_type": "code",
   "execution_count": 39,
   "id": "b943bc29",
   "metadata": {},
   "outputs": [
    {
     "name": "stdout",
     "output_type": "stream",
     "text": [
      "Accuracy médio: 75.78\n",
      "Accuracy com cross validation, 5 = [73.58, 77.98]\n"
     ]
    }
   ],
   "source": [
    "from sklearn.model_selection import KFold\n",
    "\n",
    "SEED = 158020\n",
    "np.random.seed(SEED)\n",
    "\n",
    "cv = KFold(n_splits = 10, shuffle = True)\n",
    "model = DecisionTreeClassifier(max_depth=2)\n",
    "results = cross_validate(model, x, y, cv = cv, return_train_score=False)\n",
    "imprime_resultados(results) "
   ]
  },
  {
   "cell_type": "markdown",
   "id": "690f6649",
   "metadata": {},
   "source": [
    "# Situação de exemplo de desbalanceamento"
   ]
  },
  {
   "cell_type": "code",
   "execution_count": 42,
   "id": "1ceda9a3",
   "metadata": {},
   "outputs": [
    {
     "data": {
      "text/html": [
       "<div>\n",
       "<style scoped>\n",
       "    .dataframe tbody tr th:only-of-type {\n",
       "        vertical-align: middle;\n",
       "    }\n",
       "\n",
       "    .dataframe tbody tr th {\n",
       "        vertical-align: top;\n",
       "    }\n",
       "\n",
       "    .dataframe thead th {\n",
       "        text-align: right;\n",
       "    }\n",
       "</style>\n",
       "<table border=\"1\" class=\"dataframe\">\n",
       "  <thead>\n",
       "    <tr style=\"text-align: right;\">\n",
       "      <th></th>\n",
       "      <th>preco</th>\n",
       "      <th>vendido</th>\n",
       "      <th>idade_do_modelo</th>\n",
       "      <th>km_por_ano</th>\n",
       "    </tr>\n",
       "  </thead>\n",
       "  <tbody>\n",
       "    <tr>\n",
       "      <th>4999</th>\n",
       "      <td>74023.29</td>\n",
       "      <td>0</td>\n",
       "      <td>12</td>\n",
       "      <td>24812.80412</td>\n",
       "    </tr>\n",
       "    <tr>\n",
       "      <th>5322</th>\n",
       "      <td>84843.49</td>\n",
       "      <td>0</td>\n",
       "      <td>13</td>\n",
       "      <td>23095.63834</td>\n",
       "    </tr>\n",
       "    <tr>\n",
       "      <th>5319</th>\n",
       "      <td>83100.27</td>\n",
       "      <td>0</td>\n",
       "      <td>19</td>\n",
       "      <td>36240.72746</td>\n",
       "    </tr>\n",
       "    <tr>\n",
       "      <th>5316</th>\n",
       "      <td>87932.13</td>\n",
       "      <td>0</td>\n",
       "      <td>16</td>\n",
       "      <td>32249.56426</td>\n",
       "    </tr>\n",
       "    <tr>\n",
       "      <th>5315</th>\n",
       "      <td>77937.01</td>\n",
       "      <td>0</td>\n",
       "      <td>15</td>\n",
       "      <td>28414.50704</td>\n",
       "    </tr>\n",
       "  </tbody>\n",
       "</table>\n",
       "</div>"
      ],
      "text/plain": [
       "         preco  vendido  idade_do_modelo   km_por_ano\n",
       "4999  74023.29        0               12  24812.80412\n",
       "5322  84843.49        0               13  23095.63834\n",
       "5319  83100.27        0               19  36240.72746\n",
       "5316  87932.13        0               16  32249.56426\n",
       "5315  77937.01        0               15  28414.50704"
      ]
     },
     "execution_count": 42,
     "metadata": {},
     "output_type": "execute_result"
    }
   ],
   "source": [
    "data_azar = data.sort_values(\"vendido\", ascending=True)\n",
    "x_azar = data_azar[[\"preco\", \"idade_do_modelo\",\"km_por_ano\"]]\n",
    "y_azar = data_azar[\"vendido\"]\n",
    "\n",
    "data_azar.head()"
   ]
  },
  {
   "cell_type": "code",
   "execution_count": 44,
   "id": "2c70145f",
   "metadata": {},
   "outputs": [
    {
     "name": "stdout",
     "output_type": "stream",
     "text": [
      "Accuracy médio: 57.84\n",
      "Accuracy com cross validation, 5 = [34.29, 81.39]\n"
     ]
    }
   ],
   "source": [
    "from sklearn.model_selection import KFold\n",
    "\n",
    "SEED = 158020\n",
    "np.random.seed(SEED)\n",
    "\n",
    "cv = KFold(n_splits = 10)\n",
    "model = DecisionTreeClassifier(max_depth=2)\n",
    "results = cross_validate(model, x_azar, y_azar, cv = cv, return_train_score=False)\n",
    "imprime_resultados(results) "
   ]
  },
  {
   "cell_type": "code",
   "execution_count": 46,
   "id": "e970bb29",
   "metadata": {},
   "outputs": [
    {
     "name": "stdout",
     "output_type": "stream",
     "text": [
      "Accuracy médio: 75.76\n",
      "Accuracy com cross validation, 5 = [73.02, 78.50]\n"
     ]
    }
   ],
   "source": [
    "from sklearn.model_selection import KFold\n",
    "\n",
    "SEED = 158020\n",
    "np.random.seed(SEED)\n",
    "\n",
    "cv = KFold(n_splits = 10, shuffle = True)\n",
    "model = DecisionTreeClassifier(max_depth=2)\n",
    "results = cross_validate(model, x_azar, y_azar, cv = cv, return_train_score=False)\n",
    "imprime_resultados(results) "
   ]
  },
  {
   "cell_type": "code",
   "execution_count": 49,
   "id": "f0ec4a8d",
   "metadata": {},
   "outputs": [
    {
     "name": "stdout",
     "output_type": "stream",
     "text": [
      "Accuracy médio: 75.78\n",
      "Accuracy com cross validation, 5 = [74.10, 77.46]\n"
     ]
    }
   ],
   "source": [
    "from sklearn.model_selection import StratifiedKFold\n",
    "\n",
    "SEED = 158020\n",
    "np.random.seed(SEED)\n",
    "\n",
    "cv = StratifiedKFold(n_splits = 10, shuffle = True)\n",
    "model = DecisionTreeClassifier(max_depth=2)\n",
    "results = cross_validate(model, x_azar, y_azar, cv = cv, return_train_score=False)\n",
    "imprime_resultados(results) "
   ]
  },
  {
   "cell_type": "markdown",
   "id": "f858b422",
   "metadata": {},
   "source": [
    "# Gerando dados aleatórios de carro para  de agrupamento ao usar nosso estimador"
   ]
  },
  {
   "cell_type": "code",
   "execution_count": 50,
   "id": "fcdf419d",
   "metadata": {},
   "outputs": [
    {
     "data": {
      "text/plain": [
       "20    873\n",
       "19    830\n",
       "18    788\n",
       "21    707\n",
       "17    687\n",
       "15    669\n",
       "16    616\n",
       "22    597\n",
       "14    577\n",
       "13    576\n",
       "12    497\n",
       "11    397\n",
       "10    376\n",
       "23    347\n",
       "9     320\n",
       "8     288\n",
       "7     217\n",
       "24    199\n",
       "6     186\n",
       "5     120\n",
       "4      66\n",
       "3      44\n",
       "2      20\n",
       "1       3\n",
       "Name: modelo, dtype: int64"
      ]
     },
     "execution_count": 50,
     "metadata": {},
     "output_type": "execute_result"
    }
   ],
   "source": [
    "np.random.seed(SEED)\n",
    "data['modelo'] = data.idade_do_modelo + np.random.randint(-2, 3, size = 10000)\n",
    "data.modelo = data.modelo + abs(data.modelo.min()) + 1\n",
    "data.head()\n",
    "data.modelo.value_counts()"
   ]
  },
  {
   "cell_type": "markdown",
   "id": "ad69ef4e",
   "metadata": {},
   "source": [
    "# Testando validação cruzada com GroupKFold"
   ]
  },
  {
   "cell_type": "code",
   "execution_count": 52,
   "id": "c2f6502c",
   "metadata": {},
   "outputs": [
    {
     "name": "stdout",
     "output_type": "stream",
     "text": [
      "Accuracy médio: 75.76\n",
      "Accuracy com cross validation, 5 = [72.91, 78.60]\n"
     ]
    }
   ],
   "source": [
    "from sklearn.model_selection import GroupKFold\n",
    "\n",
    "SEED = 158020\n",
    "np.random.seed(SEED)\n",
    "\n",
    "cv = GroupKFold(n_splits = 10)\n",
    "model = DecisionTreeClassifier(max_depth=2)\n",
    "results = cross_validate(model, x_azar, y_azar, cv = cv, groups = data.modelo, return_train_score=False)\n",
    "imprime_resultados(results)"
   ]
  },
  {
   "cell_type": "markdown",
   "id": "e14a6c13",
   "metadata": {},
   "source": [
    "# Cross validation com StandardScaler"
   ]
  },
  {
   "cell_type": "code",
   "execution_count": 57,
   "id": "fb3f6aa0",
   "metadata": {},
   "outputs": [
    {
     "name": "stdout",
     "output_type": "stream",
     "text": [
      "A accuracy foi 76.00%\n"
     ]
    }
   ],
   "source": [
    "from sklearn.preprocessing import StandardScaler\n",
    "from sklearn.svm import SVC\n",
    "\n",
    "SEED = 301\n",
    "np.random.seed(SEED)\n",
    "\n",
    "scaler = StandardScaler()\n",
    "scaler.fit(train_x)\n",
    "train_x_scaler = scaler.transform(train_x)\n",
    "test_x_scaler = scaler.transform(test_x)\n",
    "\n",
    "model = SVC()\n",
    "model.fit(train_x_scaler, train_y)\n",
    "predictions = model.predict(test_x_scaler)\n",
    "\n",
    "accuracy = accuracy_score(test_y, predictions) * 100\n",
    "print(\"A accuracy foi %.2f%%\" % accuracy)"
   ]
  },
  {
   "cell_type": "code",
   "execution_count": 58,
   "id": "03efb6d3",
   "metadata": {},
   "outputs": [
    {
     "name": "stdout",
     "output_type": "stream",
     "text": [
      "Accuracy médio: 77.24\n",
      "Accuracy com cross validation, 5 = [73.71, 80.77]\n"
     ]
    }
   ],
   "source": [
    "from sklearn.model_selection import GroupKFold\n",
    "\n",
    "SEED = 301\n",
    "np.random.seed(SEED)\n",
    "\n",
    "cv = GroupKFold(n_splits = 10)\n",
    "model = SVC()\n",
    "results = cross_validate(model, x_azar, y_azar, cv = cv, groups = data.modelo, return_train_score=False)\n",
    "imprime_resultados(results)"
   ]
  },
  {
   "cell_type": "code",
   "execution_count": 59,
   "id": "07b0ab8e",
   "metadata": {},
   "outputs": [
    {
     "name": "stdout",
     "output_type": "stream",
     "text": [
      "Accuracy médio: 76.66\n",
      "Accuracy com cross validation, 5 = [73.65, 79.66]\n"
     ]
    }
   ],
   "source": [
    "from sklearn.pipeline import Pipeline\n",
    "\n",
    "SEED = 301\n",
    "np.random.seed(SEED)\n",
    "\n",
    "scaler = StandardScaler()\n",
    "modelo = SVC()\n",
    "\n",
    "pipeline = Pipeline([('transformacao', scaler), ('estimador', modelo)])\n",
    "\n",
    "cv = GroupKFold(n_splits = 10)\n",
    "results = cross_validate(pipeline, x_azar, y_azar, cv = cv, groups = data.modelo, return_train_score=False)\n",
    "imprime_resultados(results)"
   ]
  },
  {
   "cell_type": "code",
   "execution_count": null,
   "id": "7ccce7a6",
   "metadata": {},
   "outputs": [],
   "source": []
  }
 ],
 "metadata": {
  "kernelspec": {
   "display_name": "Python 3 (ipykernel)",
   "language": "python",
   "name": "python3"
  },
  "language_info": {
   "codemirror_mode": {
    "name": "ipython",
    "version": 3
   },
   "file_extension": ".py",
   "mimetype": "text/x-python",
   "name": "python",
   "nbconvert_exporter": "python",
   "pygments_lexer": "ipython3",
   "version": "3.8.8"
  }
 },
 "nbformat": 4,
 "nbformat_minor": 5
}
