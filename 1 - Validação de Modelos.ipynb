{
 "cells": [
  {
   "cell_type": "code",
   "execution_count": 1,
   "id": "bc8bb614",
   "metadata": {},
   "outputs": [
    {
     "ename": "SyntaxError",
     "evalue": "invalid syntax (Temp/ipykernel_1316/4257212511.py, line 2)",
     "output_type": "error",
     "traceback": [
      "\u001b[1;36m  File \u001b[1;32m\"C:\\Users\\GUILHE~1\\AppData\\Local\\Temp/ipykernel_1316/4257212511.py\"\u001b[1;36m, line \u001b[1;32m2\u001b[0m\n\u001b[1;33m    uri =\u001b[0m\n\u001b[1;37m          ^\u001b[0m\n\u001b[1;31mSyntaxError\u001b[0m\u001b[1;31m:\u001b[0m invalid syntax\n"
     ]
    }
   ],
   "source": [
    "import pandas as pd\n",
    "uri = \n",
    "data = read_csv(uri).drop(columns=[\"Unnamed: 0\"], axis=1)\n",
    "data.head()"
   ]
  },
  {
   "cell_type": "code",
   "execution_count": 2,
   "id": "a516997e",
   "metadata": {},
   "outputs": [],
   "source": [
    "import numpy as np\n",
    "from sklearn.model_selection import train_test_split\n",
    "from sklearn.svm import LinearSVC\n",
    "from sklearn.metrics import accuracy_score\n",
    "\n",
    "x = data[[\"preco\", \"idade_do_modelo\",\"km_por_ano\"]]\n",
    "y = data[\"vendido\"]\n",
    "\n",
    "SEED = 158020\n",
    "npm.random(SEED)\n",
    "train_x, test_x, train_y, test_y = train_test_split(x, y, test_size = 25, stratify = y)\n",
    "print(\"Treinamos com %d elemenos e testaremos com %d elementos\" %(len(train_x), len(test_x))) "
   ]
  },
  {
   "cell_type": "code",
   "execution_count": null,
   "id": "f934d288",
   "metadata": {},
   "outputs": [],
   "source": [
    "from sklearn.dummy import DummyClassifier\n",
    "dummy_stratified = DummyClassifier()\n",
    "dummy_stratified.fit(train_x, train_y)\n",
    "accuracy = dummy_stratified.score(test_x, test_y) * 100\n",
    "\n",
    "print(\"A acurácia do dummy statified foi de %.2f%%\" % accuracy)"
   ]
  },
  {
   "cell_type": "code",
   "execution_count": null,
   "id": "27c4dc68",
   "metadata": {},
   "outputs": [],
   "source": [
    "from sklearn.tree import DecisionTreeClassifier \n",
    "\n",
    "SEED = 158020\n",
    "np.random.seed(SEED)\n",
    "model = DecisionTreeClassifier(max_depth=2)\n",
    "model.fit(train_x, train_y)\n",
    "predictions = model.predict(test_x)\n",
    "accuracy = accuracy_score(test_y, predicitions) * 100\n",
    "print(\"A accuracy foi %.2f%%\" % accuracy)"
   ]
  },
  {
   "cell_type": "code",
   "execution_count": null,
   "id": "86ddd032",
   "metadata": {},
   "outputs": [],
   "source": [
    "x = data[[\"preco\", \"idade_do_modelo\",\"km_por_ano\"]]\n",
    "y = data[\"vendido\"]\n",
    "\n",
    "SEED = 158020\n",
    "npm.random(SEED)\n",
    "train_x, test_x, train_y, test_y = train_test_split(x, y, test_size = 25, stratify = y)\n",
    "print(\"Treinamos com %d elemenos e testaremos com %d elementos\" %(len(train_x), len(test_x))) \n",
    "model = DecisionTreeClassifier(max_depth=2)\n",
    "model.fit(train_x, train_y)\n",
    "predictions = model.predict(test_x)\n",
    "accuracy = accuracy_score(test_y, predicitions) * 100\n",
    "print(\"A accuracy foi %.2f%%\" % accuracy)"
   ]
  },
  {
   "cell_type": "markdown",
   "id": "7c364db0",
   "metadata": {},
   "source": [
    "Ao alterarmos o seed para 5 aumentamos nossa accuracy mas, dependendo do número que chutassemos tomariamos uma decisão baseado em uma aleatoriadade, e não faz sentido basearmos nossa decisão nessa aleatoriedade, se rodamos o teste e treino uma única vez corremos o risco\n",
    "de ter separado o treino e teste de uma maneira não muito boa, então precisamos  de um algoritmo para treinar e testar mais de uma vez para ter uma estimativa."
   ]
  },
  {
   "cell_type": "code",
   "execution_count": null,
   "id": "a1c1f9ab",
   "metadata": {},
   "outputs": [],
   "source": [
    "def imprime_resultados(results):\n",
    "    media = results['test_score'].mean()\n",
    "    desvio_padrao = results['test_score'].std()\n",
    "    print(\"Accuracy médio: %.2f\" % (media * 100))\n",
    "    print(\"Accuracy com cross validation, 5[%.2f, %.2f]\" %((media - 2 * desvio_padrao) * 100,( media + 2 * desvio_padrao)*100)"
   ]
  },
  {
   "cell_type": "code",
   "execution_count": null,
   "id": "f3542f09",
   "metadata": {},
   "outputs": [],
   "source": [
    "from sklearn.model_selection import cross_validate\n",
    "\n",
    "SEED = 158020\n",
    "np.random.seed(SEED)\n",
    "model = DecisionTreeClassifier(max_depht=2)\n",
    "results = cross_validate(model, x, y, cv = 5, return_train_score=False)\n",
    "imprime_results(results)"
   ]
  },
  {
   "cell_type": "markdown",
   "id": "ccc36ce5",
   "metadata": {},
   "source": [
    "# Aleatoriadade no cross_validation\n"
   ]
  },
  {
   "cell_type": "code",
   "execution_count": null,
   "id": "a83a5b27",
   "metadata": {},
   "outputs": [],
   "source": [
    "from sklearn.model_selection import KFold\n",
    "\n",
    "SEED = 158020\n",
    "np.random.seed(SEED)\n",
    "\n",
    "cv = KFold(n_splits = 10)\n",
    "model = DecisionTreeClassifier(max_depht=2)\n",
    "results = cross_validate(model, x, y, cv = cv, return_train_score=False)\n",
    "imprime_resultados(results) "
   ]
  },
  {
   "cell_type": "code",
   "execution_count": null,
   "id": "b943bc29",
   "metadata": {},
   "outputs": [],
   "source": [
    "from sklearn.model_selection import KFold\n",
    "\n",
    "SEED = 158020\n",
    "np.random.seed(SEED)\n",
    "\n",
    "cv = KFold(n_splits = 10, shuffle = True)\n",
    "model = DecisionTreeClassifier(max_depht=2)\n",
    "results = cross_validate(model, x, y, cv = cv, return_train_score=False)\n",
    "imprime_resultados(results) "
   ]
  },
  {
   "cell_type": "markdown",
   "id": "690f6649",
   "metadata": {},
   "source": [
    "# Situação de exemplo de desbalanceamento"
   ]
  },
  {
   "cell_type": "code",
   "execution_count": null,
   "id": "1ceda9a3",
   "metadata": {},
   "outputs": [],
   "source": [
    "data.sort_values(\"vendido\", ascending=True)\n",
    "x_azar = data[[\"preco\", \"idade_do_modelo\",\"km_por_ano\"]]\n",
    "y_azar = data[\"vendido\"]\n",
    "\n",
    "data_azar.head()"
   ]
  },
  {
   "cell_type": "code",
   "execution_count": null,
   "id": "2c70145f",
   "metadata": {},
   "outputs": [],
   "source": [
    "from sklearn.model_selection import KFold\n",
    "\n",
    "SEED = 158020\n",
    "np.random.seed(SEED)\n",
    "\n",
    "cv = KFold(n_splits = 10)\n",
    "model = DecisionTreeClassifier(max_depht=2)\n",
    "results = cross_validate(model, x_azar, y_azar, cv = cv, return_train_score=False)\n",
    "imprime_resultados(results) "
   ]
  },
  {
   "cell_type": "code",
   "execution_count": null,
   "id": "e970bb29",
   "metadata": {},
   "outputs": [],
   "source": [
    "from sklearn.model_selection import KFold\n",
    "\n",
    "SEED = 158020\n",
    "np.random.seed(SEED)\n",
    "\n",
    "cv = KFold(n_splits = 10, shuffle = True)\n",
    "model = DecisionTreeClassifier(max_depht=2)\n",
    "results = cross_validate(model, x_azar, y_azar, cv = cv, return_train_score=False)\n",
    "imprime_resultados(results) "
   ]
  },
  {
   "cell_type": "code",
   "execution_count": null,
   "id": "f0ec4a8d",
   "metadata": {},
   "outputs": [],
   "source": [
    "from sklearn.model_selection import StratifiedKFold\n",
    "\n",
    "SEED = 158020\n",
    "np.random.seed(SEED)\n",
    "\n",
    "cv = StratifiedKFold(n_split s = 10, shuffle = True)\n",
    "model = DecisionTreeClassifier(max_depht=2)\n",
    "results = cross_validate(model, x_azar, y_azar, cv = cv, return_train_score=False)\n",
    "imprime_resultados(results) "
   ]
  },
  {
   "cell_type": "markdown",
   "id": "f858b422",
   "metadata": {},
   "source": [
    "# Gerando dados aleatórios de carro para  de agrupamento ao usar nosso estimador"
   ]
  },
  {
   "cell_type": "code",
   "execution_count": null,
   "id": "fcdf419d",
   "metadata": {},
   "outputs": [],
   "source": [
    "np.random.seed(SEED)\n",
    "data['modelo'] = data.idade_do_modelo + np.random.randint(-2, 3, size = 10000)\n",
    "data.modelo = data.modelo + abs(data.modelo.min()) + 1\n",
    "data.head()\n",
    "data.modelo.value_counts()"
   ]
  },
  {
   "cell_type": "markdown",
   "id": "ad69ef4e",
   "metadata": {},
   "source": [
    "# Testando validação cruzada com GroupKFold"
   ]
  },
  {
   "cell_type": "code",
   "execution_count": null,
   "id": "c2f6502c",
   "metadata": {},
   "outputs": [],
   "source": [
    "from sklearn.model_selection import GroupKFold\n",
    "\n",
    "SEED = 158020\n",
    "np.random.seed(SEED)\n",
    "\n",
    "cv = GroupKFold(n_splits = 10)\n",
    "model = DecisionTreeClassifier(max_depht=2)\n",
    "results = cross_validate(model, x_azar, y_azar, cv = cv, groups = data.modelo, return_train_score=False)\n",
    "imprime_resultados(results)"
   ]
  },
  {
   "cell_type": "markdown",
   "id": "e14a6c13",
   "metadata": {},
   "source": [
    "# Cross validation com StandardScaler"
   ]
  },
  {
   "cell_type": "code",
   "execution_count": null,
   "id": "fb3f6aa0",
   "metadata": {},
   "outputs": [],
   "source": [
    "from sklearn.preprocessing import StandardScaler\n",
    "from sklearn.svm import SVC\n",
    "\n",
    "SEED = 301\n",
    "np.random.seed(SEED)\n",
    "\n",
    "scaler = StandardScaler()\n",
    "sclaer.fit(train_x)\n",
    "train_x_scaler = scaler.transform(train_x)\n",
    "test_x_scaler = scaler.transform(test_x)\n",
    "\n",
    "model = SVC()\n",
    "model.fit(train_x_scaler, train_y)\n",
    "predictions = model.predict(test_x_scaler)\n",
    "\n",
    "accuracy = accuracy_score(test_y, predicitions) * 100\n",
    "print(\"A accuracy foi %.2f%%\" % accuracy)"
   ]
  },
  {
   "cell_type": "code",
   "execution_count": null,
   "id": "03efb6d3",
   "metadata": {},
   "outputs": [],
   "source": [
    "from sklearn.model_selection import GroupKFold\n",
    "\n",
    "SEED = 301\n",
    "np.random.seed(SEED)\n",
    "\n",
    "cv = GroupKFold(n_splits = 10)\n",
    "model = SVC()\n",
    "results = cross_validate(model, x_azar, y_azar, cv = cv, groups = data.modelo, return_train_score=False)\n",
    "imprime_resultados(results)"
   ]
  },
  {
   "cell_type": "code",
   "execution_count": null,
   "id": "07b0ab8e",
   "metadata": {},
   "outputs": [],
   "source": [
    "from sklearn.pipeline import Pipeline\n",
    "\n",
    "SEED = 301\n",
    "np.random.seed(SEED)\n",
    "\n",
    "scaler = StandardScaler()\n",
    "modelo = SVC()\n",
    "\n",
    "pipeline = Pipeline([('transformacao', scaler), ('estimador', modelo)])\n",
    "\n",
    "cv = GroupKFold(n_splits = 10)\n",
    "results = cross_validate(pipeline, x_azar, y_azar, cv = cv, groups = data.modelo, return_train_score=False)\n",
    "imprime_resultados(results)"
   ]
  }
 ],
 "metadata": {
  "kernelspec": {
   "display_name": "Python 3 (ipykernel)",
   "language": "python",
   "name": "python3"
  },
  "language_info": {
   "codemirror_mode": {
    "name": "ipython",
    "version": 3
   },
   "file_extension": ".py",
   "mimetype": "text/x-python",
   "name": "python",
   "nbconvert_exporter": "python",
   "pygments_lexer": "ipython3",
   "version": "3.8.8"
  }
 },
 "nbformat": 4,
 "nbformat_minor": 5
}
